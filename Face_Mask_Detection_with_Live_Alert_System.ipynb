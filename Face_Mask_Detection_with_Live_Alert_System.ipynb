{
  "nbformat": 4,
  "nbformat_minor": 0,
  "metadata": {
    "colab": {
      "provenance": [],
      "authorship_tag": "ABX9TyPT3GpJmn4tBTZfGhua7qwn",
      "include_colab_link": true
    },
    "kernelspec": {
      "name": "python3",
      "display_name": "Python 3"
    },
    "language_info": {
      "name": "python"
    }
  },
  "cells": [
    {
      "cell_type": "markdown",
      "metadata": {
        "id": "view-in-github",
        "colab_type": "text"
      },
      "source": [
        "<a href=\"https://colab.research.google.com/github/shahulrashid/Chess-piece-name-prediction-using-CNNs/blob/main/Face_Mask_Detection_with_Live_Alert_System.ipynb\" target=\"_parent\"><img src=\"https://colab.research.google.com/assets/colab-badge.svg\" alt=\"Open In Colab\"/></a>"
      ]
    },
    {
      "cell_type": "code",
      "execution_count": null,
      "metadata": {
        "id": "otP-yj89gxkL"
      },
      "outputs": [],
      "source": [
        "import os\n",
        "import numpy as np\n",
        "import matplotlib.pyplot as plt\n",
        "import cv2\n",
        "from PIL import Image\n",
        "from sklearn.model_selection import train_test_split\n",
        "import tensorflow as tf\n",
        "from tensorflow.keras.preprocessing.image import ImageDataGenerator\n",
        "from tensorflow import keras\n",
        "from sklearn.utils import class_weight\n",
        "import warnings\n",
        "warnings.filterwarnings('ignore')"
      ]
    },
    {
      "cell_type": "code",
      "source": [
        "with_mask_path = '/drive/input/face-mask-dataset/data/with_mask/'\n",
        "without_mask_path = '/drive/input/face-mask-dataset/data/without_mask/'"
      ],
      "metadata": {
        "id": "iSBidCe9g2s2"
      },
      "execution_count": null,
      "outputs": []
    },
    {
      "cell_type": "code",
      "source": [
        "with_mask_files = os.listdir(with_mask_path)\n",
        "without_mask_files = os.listdir(without_mask_path)"
      ],
      "metadata": {
        "id": "nRSYbEqIg3dw"
      },
      "execution_count": null,
      "outputs": []
    },
    {
      "cell_type": "code",
      "source": [
        "print(\"Sample with_mask images:\", with_mask_files[0:5])\n",
        "print(\"Sample without_mask images:\", without_mask_files[0:5])\n",
        "print(\"Number of with_mask images:\", len(with_mask_files))\n",
        "print(\"Number of without_mask images:\", len(without_mask_files))"
      ],
      "metadata": {
        "id": "lwPvM3pvg-ev"
      },
      "execution_count": null,
      "outputs": []
    },
    {
      "cell_type": "code",
      "source": [
        "with_mask_labels = [1] * len(with_mask_files)\n",
        "without_mask_labels = [0] * len(without_mask_files)\n",
        "labels = with_mask_labels + without_mask_labels"
      ],
      "metadata": {
        "id": "01zwZwgZg_fd"
      },
      "execution_count": null,
      "outputs": []
    },
    {
      "cell_type": "code",
      "source": [
        "data = []\n",
        "for img_file in with_mask_files:\n",
        "    image = Image.open(with_mask_path + img_file)\n",
        "    image = image.resize((128, 128))\n",
        "    image = image.convert('RGB')\n",
        "    image = np.array(image)\n",
        "    data.append(image)\n",
        "\n",
        "for img_file in without_mask_files:\n",
        "    image = Image.open(without_mask_path + img_file)\n",
        "    image = image.resize((128, 128))\n",
        "    image = image.convert('RGB')\n",
        "    image = np.array(image)\n",
        "    data.append(image)"
      ],
      "metadata": {
        "id": "EW22rXwuhGyW"
      },
      "execution_count": null,
      "outputs": []
    },
    {
      "cell_type": "code",
      "source": [
        "X = np.array(data)\n",
        "Y = np.array(labels)"
      ],
      "metadata": {
        "colab": {
          "base_uri": "https://localhost:8080/"
        },
        "id": "9_TtkHGChHVt",
        "outputId": "187b8d9b-0adb-4fc8-b72f-08695db950a1"
      },
      "execution_count": null,
      "outputs": [
        {
          "output_type": "stream",
          "name": "stdout",
          "text": [
            " * Serving Flask app '__main__'\n",
            " * Debug mode: on\n"
          ]
        },
        {
          "output_type": "stream",
          "name": "stderr",
          "text": [
            "INFO:werkzeug:\u001b[31m\u001b[1mWARNING: This is a development server. Do not use it in a production deployment. Use a production WSGI server instead.\u001b[0m\n",
            " * Running on http://127.0.0.1:5000\n",
            "INFO:werkzeug:\u001b[33mPress CTRL+C to quit\u001b[0m\n",
            "INFO:werkzeug: * Restarting with stat\n"
          ]
        }
      ]
    },
    {
      "cell_type": "code",
      "source": [
        "X_train, X_test, Y_train, Y_test = train_test_split(X, Y, test_size=0.2, random_state=2)"
      ],
      "metadata": {
        "id": "nukYTefwhOHP"
      },
      "execution_count": null,
      "outputs": []
    },
    {
      "cell_type": "code",
      "source": [
        "X_train_scaled = X_train / 255\n",
        "X_test_scaled = X_test / 255\n"
      ],
      "metadata": {
        "id": "c8TLJXi9jb6K"
      },
      "execution_count": null,
      "outputs": []
    },
    {
      "cell_type": "code",
      "source": [
        "datagen = ImageDataGenerator(\n",
        "    rotation_range=20,\n",
        "    zoom_range=0.15,\n",
        "    width_shift_range=0.2,\n",
        "    height_shift_range=0.2,\n",
        "    horizontal_flip=True,\n",
        "    fill_mode='nearest'\n",
        ")\n",
        "datagen.fit(X_train_scaled)"
      ],
      "metadata": {
        "id": "tICN5XkBjgVC"
      },
      "execution_count": null,
      "outputs": []
    },
    {
      "cell_type": "code",
      "source": [
        "model = keras.Sequential([\n",
        "    # First convolutional block\n",
        "    keras.layers.Conv2D(32, (3,3), activation='relu', input_shape=(128,128,3)),\n",
        "    keras.layers.BatchNormalization(),\n",
        "    keras.layers.MaxPooling2D((2,2)),\n",
        "    # Second convolutional block\n",
        "    keras.layers.Conv2D(64, (3,3), activation='relu'),\n",
        "    keras.layers.BatchNormalization(),\n",
        "    keras.layers.MaxPooling2D((2,2)),\n",
        "    # Third convolutional block\n",
        "    keras.layers.Conv2D(128, (3,3), activation='relu'),\n",
        "    keras.layers.BatchNormalization(),\n",
        "    keras.layers.MaxPooling2D((2,2)),\n",
        "    # Flatten and dense layers\n",
        "    keras.layers.Flatten(),\n",
        "    keras.layers.Dense(256, activation='relu', kernel_regularizer=keras.regularizers.l2(0.01)),\n",
        "    keras.layers.Dropout(0.5),\n",
        "    keras.layers.Dense(128, activation='relu', kernel_regularizer=keras.regularizers.l2(0.01)),\n",
        "    keras.layers.Dropout(0.5),\n",
        "    # Output layer for binary classification\n",
        "    keras.layers.Dense(1, activation='sigmoid')\n",
        "])\n",
        "model.compile(optimizer='adam', loss='binary_crossentropy', metrics=['accuracy'])\n",
        "\n",
        "\n",
        "class_weights = class_weight.compute_class_weight('balanced', classes=np.unique(Y_train), y=Y_train)\n",
        "class_weights = dict(enumerate(class_weights))\n",
        "print(\"Class Weights:\", class_weights)\n",
        "\n",
        "# Train the model with data augmentation\n",
        "history = model.fit(\n",
        "    datagen.flow(X_train_scaled, Y_train, batch_size=32),\n",
        "    validation_data=(X_test_scaled, Y_test),\n",
        "    epochs=30\n",
        ")\n",
        "\n",
        "# Evaluate the model on the test set\n",
        "loss, accuracy = model.evaluate(X_test_scaled, Y_test)\n",
        "print(f'Test Accuracy: {accuracy:.4f}')"
      ],
      "metadata": {
        "id": "j5cJ9iZkjsRl"
      },
      "execution_count": null,
      "outputs": []
    },
    {
      "cell_type": "code",
      "source": [
        "plt.plot(history.history['loss'], label='train loss')\n",
        "plt.plot(history.history['val_loss'], label='validation loss')\n",
        "plt.title('Training and Validation Loss')\n",
        "plt.legend()\n",
        "plt.show()"
      ],
      "metadata": {
        "id": "TgqK5oGGjw1f"
      },
      "execution_count": null,
      "outputs": []
    }
  ]
}